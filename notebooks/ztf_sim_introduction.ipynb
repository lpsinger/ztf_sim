{
 "cells": [
  {
   "cell_type": "markdown",
   "metadata": {},
   "source": [
    "### ztf_sim_introduction\n",
    "\n",
    "This notebook illustrates basic use of the `ztf_sim` modules."
   ]
  },
  {
   "cell_type": "code",
   "execution_count": 1,
   "metadata": {
    "collapsed": true
   },
   "outputs": [],
   "source": [
    "# hack to get the path right\n",
    "import sys\n",
    "sys.path.append('..')"
   ]
  },
  {
   "cell_type": "code",
   "execution_count": 78,
   "metadata": {
    "collapsed": false
   },
   "outputs": [],
   "source": [
    "import ztf_sim\n",
    "from astropy.time import Time\n",
    "import pandas as pd\n",
    "import numpy as np\n",
    "import astropy.units as u\n",
    "import pylab as plt\n",
    "from matplotlib import animation\n",
    "import astropy.coordinates as coords\n",
    "from collections import Counter"
   ]
  },
  {
   "cell_type": "markdown",
   "metadata": {},
   "source": [
    "First we'll generate a test field grid.  You only need to do this the first time you run the simulator."
   ]
  },
  {
   "cell_type": "code",
   "execution_count": null,
   "metadata": {
    "collapsed": true
   },
   "outputs": [],
   "source": [
    "ztf_sim.fields.generate_test_field_grid()"
   ]
  },
  {
   "cell_type": "markdown",
   "metadata": {},
   "source": [
    "Let's load the Fields object with the default field grid:"
   ]
  },
  {
   "cell_type": "code",
   "execution_count": null,
   "metadata": {
    "collapsed": false
   },
   "outputs": [],
   "source": [
    "f = ztf_sim.fields.Fields()"
   ]
  },
  {
   "cell_type": "markdown",
   "metadata": {},
   "source": [
    "The raw fieldid and coordinates are stored as a pandas Dataframe in the `.fields` attribute:"
   ]
  },
  {
   "cell_type": "code",
   "execution_count": null,
   "metadata": {
    "collapsed": false
   },
   "outputs": [],
   "source": [
    "f.fields"
   ]
  },
  {
   "cell_type": "markdown",
   "metadata": {},
   "source": [
    "Now let's calcuate their altitude and azimuth at a specific time using the astropy.time.Time object:"
   ]
  },
  {
   "cell_type": "code",
   "execution_count": null,
   "metadata": {
    "collapsed": false
   },
   "outputs": [],
   "source": [
    "f.alt_az(Time.now())"
   ]
  },
  {
   "cell_type": "markdown",
   "metadata": {},
   "source": [
    "Demonstrate accessing fields by `fieldid`:"
   ]
  },
  {
   "cell_type": "code",
   "execution_count": null,
   "metadata": {
    "collapsed": false
   },
   "outputs": [],
   "source": [
    "w = f.fields['dec'] < 0.\n",
    "f.fields[w].loc[853]"
   ]
  },
  {
   "cell_type": "markdown",
   "metadata": {},
   "source": [
    "Calculating the overhead time (max of ha, dec, dome slews and readout time):"
   ]
  },
  {
   "cell_type": "code",
   "execution_count": null,
   "metadata": {
    "collapsed": false
   },
   "outputs": [],
   "source": [
    "f.overhead_time(853,Time.now())"
   ]
  },
  {
   "cell_type": "code",
   "execution_count": 130,
   "metadata": {
    "collapsed": false
   },
   "outputs": [
    {
     "name": "stdout",
     "output_type": "stream",
     "text": [
      "562.0\n",
      "827.0\n",
      "13.2721201392 s\n",
      "566.0\n",
      "1026.0\n",
      "33.1902439024 s\n"
     ]
    }
   ],
   "source": [
    "f = ztf_sim.fields.Fields()\n",
    "Exposure_time = 30*u.second\n",
    "Night_length=9*u.h\n",
    "\n",
    "\n",
    "time0 = Time('2015-09-10 20:00:00') + 7*u.h # First observatoins start + offset to Palomar\n",
    "time = time0\n",
    "\n",
    "f.fields = f.fields.join(pd.DataFrame(np.zeros(len(f.fields)),columns=['observed'])) #Counts how many times the field have been observed\n",
    "f.fields = f.fields.join(pd.DataFrame(np.zeros(len(f.fields)),columns=['possibleToObserve'])) # Marks if it was possible to observe\n",
    "\n",
    "\n",
    "def observe(f, nightStart):\n",
    "    time=nightStart\n",
    "    obsLog = {'time':np.array([]),'fieldid':np.array([])}\n",
    "    \n",
    "    firstField = True # Different treatment for the first field\n",
    "    \n",
    "    timeFirstObserve = time #The time at the begining of the first \"cluster\" - after some time (defined later) this cluster should be observed again\n",
    "    \n",
    "    while time < nightStart + Night_length:\n",
    "        \n",
    "        \n",
    "        goodAltitude = f.alt_az(time)['alt'] > 20        \n",
    "        shouldObserve = f.fields['observed'] < 1 # Observe fields which haven't been observed before\n",
    "        good = goodAltitude & shouldObserve\n",
    "        f.fields['possibleToObserve'][goodAltitude] = 1\n",
    "\n",
    "        if not np.any(good): # If there are no possible fields for observation\n",
    "            time += 60*u.s\n",
    "            continue\n",
    "            \n",
    "        if firstField:\n",
    "            better = good & (f.alt_az(time + 3*u.h)['alt'] > 20) & (f.alt_az(time + 4*u.h)['alt'] < 20) # Choose a field which will go down after 4hours\n",
    "            if np.any(better): good = better\n",
    "            fid = f.fields[good].iloc[0].name # pick the first one in the list\n",
    "            obsLog['time']=np.append(obsLog['time'],(time - 7*u.h))\n",
    "            obsLog['fieldid']=np.append(obsLog['fieldid'],fid)\n",
    "            f.fields['observed'][fid]+=1\n",
    "                               \n",
    "            goodAltitude = f.alt_az(time)['alt'] > 20\n",
    "            shouldObserve = f.fields['observed'] < 1\n",
    "            good = goodAltitude & shouldObserve\n",
    "            firstField = False\n",
    "            \n",
    "                        \n",
    "        slewTime = f.overhead_time(fid,time)[good] # calculate slew time to all other possible fields\n",
    "                \n",
    "        fid = int(slewTime.idxmin()) # choose next field as the one which takes the shortest time to slew to\n",
    "        time += Exposure_time + slewTime['overhead_time'][fid]*u.second # gives the time when starting to observe the current field\n",
    "        obsLog['time']=np.append(obsLog['time'],(time - 7*u.h))\n",
    "        obsLog['fieldid']=np.append(obsLog['fieldid'],fid)\n",
    "        f.fields['observed'][fid]+=1\n",
    "        \n",
    "        if time - timeFirstObserve > 1*u.h: #Take another observation of the last \"cluster\"\n",
    "            time, fid = secondObserve(fid, time, obsLog, f)\n",
    "            timeFirstObserve = time\n",
    "   \n",
    "    return pd.DataFrame(obsLog)\n",
    "\n",
    "def secondObserve(fid0, time, obsLog,f):\n",
    "    index = f.fields[f.fields.observed ==1].index #All the fields which have been observed only once\n",
    "    fields = obsLog['fieldid'][np.in1d(obsLog['fieldid'],index)].astype('int')\n",
    "    for fid in fields: \n",
    "        \n",
    "        if f.alt_az(time).alt.loc[fid]>20:            \n",
    "            time += f.overhead_time(fid0,time).overhead_time[fid]*u.s + Exposure_time\n",
    "            obsLog['time']=np.append(obsLog['time'],(time - 7*u.h))\n",
    "            obsLog['fieldid']=np.append(obsLog['fieldid'],fid)\n",
    "            f.fields['observed'][fid]+=1            \n",
    "            fid0 = fid\n",
    "    return time, fid\n",
    "    \n",
    "            \n",
    "    \n",
    "# First night\n",
    "log = observe(f,time)\n",
    "fieldsPossible = np.sum(f.fields['possibleToObserve'])\n",
    "print fieldsPossible\n",
    "fieldsObserved = np.sum(f.fields['observed'])\n",
    "print fieldsObserved\n",
    "meanTime = ((log.time.iloc[-1]-log.time.iloc[0] - (fieldsObserved-1)*Exposure_time)/(fieldsObserved-1)).to(u.second)\n",
    "print meanTime\n",
    "\n",
    "\n",
    "# Second night\n",
    "time=time0+24*u.h\n",
    "log = log.append(observe(f,time),ignore_index=True)\n",
    "fieldsPossible = np.sum(f.fields['possibleToObserve'])\n",
    "print fieldsPossible\n",
    "fieldsObserved = np.sum(f.fields['observed'])\n",
    "print fieldsObserved\n",
    "meanTime = (2*Night_length.to(u.s)-fieldsObserved*Exposure_time)/(fieldsObserved-1)\n",
    "print meanTime\n"
   ]
  },
  {
   "cell_type": "code",
   "execution_count": null,
   "metadata": {
    "collapsed": false
   },
   "outputs": [],
   "source": []
  },
  {
   "cell_type": "code",
   "execution_count": null,
   "metadata": {
    "collapsed": false
   },
   "outputs": [],
   "source": []
  },
  {
   "cell_type": "code",
   "execution_count": 6,
   "metadata": {
    "collapsed": false,
    "scrolled": true
   },
   "outputs": [],
   "source": [
    "def plotFields(f):\n",
    "    for dec in np.append(np.linspace(-90,90,10),0):\n",
    "        ra=np.linspace(0, 360,1000)\n",
    "        x,y = raDec2xy(ra,dec)\n",
    "        plt.plot(x,y,'k')\n",
    "\n",
    "    for ra in np.linspace(0,360,10):\n",
    "        dec=np.linspace(-90, 90,1000)\n",
    "        x,y = raDec2xy(ra,dec)\n",
    "        plt.plot(x,y,'k')\n",
    "\n",
    "    x,y = raDec2xy(f.fields['ra'],f.fields['dec'])\n",
    "    plt.plot(x,y,'o',color=(.8,.8,.8))    \n",
    "    #plt.show()"
   ]
  },
  {
   "cell_type": "code",
   "execution_count": 7,
   "metadata": {
    "collapsed": false
   },
   "outputs": [],
   "source": [
    "def raDec2xy(ra,dec):\n",
    "    # Using Aitoff projections (from Wiki) returns x-y coordinates on a plane from RA and Dec\n",
    "    theta = np.deg2rad(dec)\n",
    "    phi = np.deg2rad(ra)-np.pi #the range is [-pi,pi]\n",
    "    alpha=np.arccos(np.cos(theta)*np.cos(phi/2))\n",
    "    x=2*np.cos(theta)*np.sin(phi/2)/np.sinc(alpha/np.pi) # The python's sinc is normalazid, hence the /pi\n",
    "    y=np.sin(theta)/np.sinc(alpha/np.pi)\n",
    "    return x,y"
   ]
  },
  {
   "cell_type": "code",
   "execution_count": 132,
   "metadata": {
    "collapsed": false
   },
   "outputs": [],
   "source": [
    "def showObservation(f,obsLog): # Takes the fields (f) and the observation log\n",
    "    \n",
    "    fig = plt.figure()\n",
    "    ax = plt.axes(xlim=(-3.5, 3.5), ylim=(-2, 2))\n",
    "    plotFields(f)\n",
    "    line1, = ax.plot([], [],'.b')\n",
    "    line2, = ax.plot([], [],'og')\n",
    "    obsLimits, = ax.plot([],[],'xr')\n",
    "    time_text = ax.text(0.02, 0.95, '', transform=ax.transAxes)\n",
    "    \n",
    "    def init():\n",
    "        line1.set_data([], [])\n",
    "        line2.set_data([], [])\n",
    "        obsLimits.set_data([],[])\n",
    "        time_text.set_text('')\n",
    "        return line1,line2,obsLimits,time_text    \n",
    "\n",
    "    def animate(i):\n",
    "        \n",
    "        counts = dict(Counter(obsLog.iloc[:i].fieldid))\n",
    "        time = obsLog.time.iloc[i]\n",
    "\n",
    "        # Fields which are observed for the first time\n",
    "        fids1 = np.array(counts.keys())[np.array(counts.values()) == 1]\n",
    "        ra = f.fields.ra[fids1]\n",
    "        dec = f.fields.dec[fids1]\n",
    "        \n",
    "        x,y = raDec2xy(ra,dec)\n",
    "        line1.set_data(x, y)\n",
    "        \n",
    "        # Fields which are observed for the second time\n",
    "        fids2 = np.array(counts.keys())[np.array(counts.values()) == 2]\n",
    "        ra = f.fields.ra[fids2]\n",
    "        dec = f.fields.dec[fids2]\n",
    "        \n",
    "        x,y = raDec2xy(ra,dec)\n",
    "        line2.set_data(x, y)\n",
    "        \n",
    "        \"\"\"\n",
    "        az = np.linspace(0,360,1000)\n",
    "        alt = 50*np.ones(1000)\n",
    "        altAzLim = coords.SkyCoord(az = az, alt = alt,frame='altaz', unit = 'deg', \n",
    "                           location = coords.EarthLocation(lat=coords.Latitude('33d21m26.35s'), \n",
    "                                                           lon=coords.Longitude('-116d51m32.04s'), \n",
    "                                                           height=1707.*u.m), obstime = obsLog.time[i])\n",
    "        raDecLims = altAzLim.icrs\n",
    "        x,y = raDec2xy(raDecLims.ra.value, raDecLims.dec.value) # passed dimensionless numbers in degrees\n",
    "        \"\"\"\n",
    "        \n",
    "        # Fields which are at good altitiude and possible to observe\n",
    "        goodAltitude = f.alt_az(time + 7*u.h)['alt'] > 20\n",
    "        x,y = raDec2xy(f.fields[goodAltitude].ra,f.fields[goodAltitude].dec)        \n",
    "        obsLimits.set_data(x,y)\n",
    "        \n",
    "        # Displays the time\n",
    "        time_text.set_text(time.value)\n",
    "        \n",
    "     \n",
    "        return line1,line2,obsLimits,time_text\n",
    "    \n",
    "    frames = len(obsLog)\n",
    "    anim = animation.FuncAnimation(fig, animate, init_func=init, frames=frames, blit=True)\n",
    "    \n",
    "    #plt.rcParams['animation.ffmpeg_path'] = '/home/danny/ffmpeg-2.8'\n",
    "    #FFwriter = animation.FFMpegWriter()\n",
    "    \n",
    "    anim.save('basic_animation.mp4', writer = 'avconv', fps=5, dpi = 100) # Takes a lot of time, may be sensitive to writer on different platforms\n",
    "    #plt.show()\n",
    "    plt.close()\n",
    "\n",
    "showObservation(f,log)\n"
   ]
  },
  {
   "cell_type": "code",
   "execution_count": 80,
   "metadata": {
    "collapsed": false
   },
   "outputs": [],
   "source": [
    "index = f.fields[f.fields.observed ==1].index"
   ]
  },
  {
   "cell_type": "code",
   "execution_count": 90,
   "metadata": {
    "collapsed": false
   },
   "outputs": [
    {
     "data": {
      "text/plain": [
       "Int64Index([ 61,  64,  90,  93, 124, 128, 129, 162, 168, 169, 204, 212, 213,\n",
       "            250, 260, 261, 298, 309, 310, 347, 348, 361, 362, 398, 413, 414,\n",
       "            416, 450, 466, 467, 501, 519, 520, 552, 571, 572, 601, 622, 623,\n",
       "            648, 671, 672, 673, 674, 675, 684, 685, 686, 687, 688, 691, 721,\n",
       "            722, 726, 727],\n",
       "           dtype='int64', name=u'fieldid')"
      ]
     },
     "execution_count": 90,
     "metadata": {},
     "output_type": "execute_result"
    }
   ],
   "source": [
    "index"
   ]
  },
  {
   "cell_type": "code",
   "execution_count": 111,
   "metadata": {
    "collapsed": false
   },
   "outputs": [
    {
     "data": {
      "text/plain": [
       "array([  40.,   20.,   39., ...,  348.,  450.,  552.])"
      ]
     },
     "execution_count": 111,
     "metadata": {},
     "output_type": "execute_result"
    }
   ],
   "source": [
    "log.fieldid.values"
   ]
  },
  {
   "cell_type": "code",
   "execution_count": null,
   "metadata": {
    "collapsed": false
   },
   "outputs": [],
   "source": [
    "az = np.linspace(0,360,1000)\n",
    "alt = 20*np.ones(1000)\n",
    "altAzLim = coords.SkyCoord(az = az, alt = alt,frame='altaz', unit = 'deg', \n",
    "                           location = coords.EarthLocation(lat=coords.Latitude('33d21m26.35s'), \n",
    "                                                           lon=coords.Longitude('-116d51m32.04s'), \n",
    "                                                           height=1707.*u.m), obstime = Time.now())\n",
    "raDecLims = altAzLim.icrs"
   ]
  },
  {
   "cell_type": "code",
   "execution_count": 115,
   "metadata": {
    "collapsed": false
   },
   "outputs": [
    {
     "data": {
      "text/plain": [
       "array([ 684.,  685.,  686.,  687.,  688.,   93.,  128.,  129.,  169.,\n",
       "        168.,  212.,  213.,  310.,  309.,  260.,  261.,  361.,  362.,\n",
       "        414.,  413.,  466.,  467.,  520.,  519.,  571.,  572.,  623.,\n",
       "        622.,  671.,  672.,  675.,  674.,  673.,  416.,  721.,  722.,\n",
       "         64.,  726.,  727.,  347.,  691.,  398.,   61.,  162.,  204.,\n",
       "        124.,   90.,  601.,  648.,  501.,  298.,  250.,  348.,  450.,  552.])"
      ]
     },
     "execution_count": 115,
     "metadata": {},
     "output_type": "execute_result"
    }
   ],
   "source": [
    "log[np.in1d(log.fieldid.values,index)].fieldid.values"
   ]
  },
  {
   "cell_type": "code",
   "execution_count": null,
   "metadata": {
    "collapsed": false
   },
   "outputs": [],
   "source": [
    "a=Counter(log[:30].fieldid)\n",
    "print a"
   ]
  },
  {
   "cell_type": "code",
   "execution_count": null,
   "metadata": {
    "collapsed": false
   },
   "outputs": [],
   "source": [
    "b=dict(a)\n",
    "print b"
   ]
  },
  {
   "cell_type": "code",
   "execution_count": null,
   "metadata": {
    "collapsed": false
   },
   "outputs": [],
   "source": [
    "np.array(b.keys())[np.array(b.values())==2]"
   ]
  },
  {
   "cell_type": "code",
   "execution_count": null,
   "metadata": {
    "collapsed": false
   },
   "outputs": [],
   "source": [
    "b.keys()[5:9]"
   ]
  },
  {
   "cell_type": "code",
   "execution_count": null,
   "metadata": {
    "collapsed": false
   },
   "outputs": [],
   "source": [
    "a.iloc[-1]"
   ]
  },
  {
   "cell_type": "code",
   "execution_count": null,
   "metadata": {
    "collapsed": false
   },
   "outputs": [],
   "source": [
    "a = {'x':np.array([4,5,6]), 'y':np.array([8,9,10])}"
   ]
  },
  {
   "cell_type": "code",
   "execution_count": null,
   "metadata": {
    "collapsed": false
   },
   "outputs": [],
   "source": [
    "a['x'][a['y']>z]"
   ]
  },
  {
   "cell_type": "code",
   "execution_count": null,
   "metadata": {
    "collapsed": true
   },
   "outputs": [],
   "source": [
    "np.any"
   ]
  },
  {
   "cell_type": "code",
   "execution_count": null,
   "metadata": {
    "collapsed": false
   },
   "outputs": [],
   "source": [
    "a['y']<10"
   ]
  },
  {
   "cell_type": "code",
   "execution_count": null,
   "metadata": {
    "collapsed": false
   },
   "outputs": [],
   "source": [
    "f.fields[f.fields.dec<3].index[7]"
   ]
  },
  {
   "cell_type": "code",
   "execution_count": null,
   "metadata": {
    "collapsed": false
   },
   "outputs": [],
   "source": [
    "f.fields.loc[440]\n"
   ]
  },
  {
   "cell_type": "code",
   "execution_count": null,
   "metadata": {
    "collapsed": true
   },
   "outputs": [],
   "source": []
  }
 ],
 "metadata": {
  "kernelspec": {
   "display_name": "Python 2",
   "language": "python",
   "name": "python2"
  },
  "language_info": {
   "codemirror_mode": {
    "name": "ipython",
    "version": 2
   },
   "file_extension": ".py",
   "mimetype": "text/x-python",
   "name": "python",
   "nbconvert_exporter": "python",
   "pygments_lexer": "ipython2",
   "version": "2.7.10"
  }
 },
 "nbformat": 4,
 "nbformat_minor": 0
}
