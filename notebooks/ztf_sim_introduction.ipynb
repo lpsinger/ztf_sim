{
 "cells": [
  {
   "cell_type": "markdown",
   "metadata": {},
   "source": [
    "### ztf_sim_introduction\n",
    "\n",
    "This notebook illustrates basic use of the `ztf_sim` modules."
   ]
  },
  {
   "cell_type": "code",
   "execution_count": 1,
   "metadata": {
    "collapsed": true
   },
   "outputs": [],
   "source": [
    "# hack to get the path right\n",
    "import sys\n",
    "sys.path.append('..')"
   ]
  },
  {
   "cell_type": "code",
   "execution_count": 78,
   "metadata": {
    "collapsed": false
   },
   "outputs": [],
   "source": [
    "import ztf_sim\n",
    "from astropy.time import Time\n",
    "import pandas as pd\n",
    "import numpy as np\n",
    "import astropy.units as u\n",
    "import pylab as plt\n",
    "from matplotlib import animation\n",
    "import astropy.coordinates as coords\n",
    "from collections import Counter"
   ]
  },
  {
   "cell_type": "markdown",
   "metadata": {},
   "source": [
    "First we'll generate a test field grid.  You only need to do this the first time you run the simulator."
   ]
  },
  {
   "cell_type": "code",
   "execution_count": null,
   "metadata": {
    "collapsed": true
   },
   "outputs": [],
   "source": [
    "ztf_sim.fields.generate_test_field_grid()"
   ]
  },
  {
   "cell_type": "markdown",
   "metadata": {},
   "source": [
    "Let's load the Fields object with the default field grid:"
   ]
  },
  {
   "cell_type": "code",
   "execution_count": null,
   "metadata": {
    "collapsed": false
   },
   "outputs": [],
   "source": [
    "f = ztf_sim.fields.Fields()"
   ]
  },
  {
   "cell_type": "markdown",
   "metadata": {},
   "source": [
    "The raw fieldid and coordinates are stored as a pandas Dataframe in the `.fields` attribute:"
   ]
  },
  {
   "cell_type": "code",
   "execution_count": null,
   "metadata": {
    "collapsed": false
   },
   "outputs": [],
   "source": [
    "f.fields"
   ]
  },
  {
   "cell_type": "markdown",
   "metadata": {},
   "source": [
    "Now let's calcuate their altitude and azimuth at a specific time using the astropy.time.Time object:"
   ]
  },
  {
   "cell_type": "code",
   "execution_count": null,
   "metadata": {
    "collapsed": false
   },
   "outputs": [],
   "source": [
    "f.alt_az(Time.now())"
   ]
  },
  {
   "cell_type": "markdown",
   "metadata": {},
   "source": [
    "Demonstrate accessing fields by `fieldid`:"
   ]
  },
  {
   "cell_type": "code",
   "execution_count": null,
   "metadata": {
    "collapsed": false
   },
   "outputs": [],
   "source": [
    "w = f.fields['dec'] < 0.\n",
    "f.fields[w].loc[853]"
   ]
  },
  {
   "cell_type": "markdown",
   "metadata": {},
   "source": [
    "Calculating the overhead time (max of ha, dec, dome slews and readout time):"
   ]
  },
  {
   "cell_type": "code",
   "execution_count": null,
   "metadata": {
    "collapsed": false
   },
   "outputs": [],
   "source": [
    "f.overhead_time(853,Time.now())"
   ]
  },
  {
   "cell_type": "code",
   "execution_count": 130,
   "metadata": {
    "collapsed": false
   },
   "outputs": [
    {
     "name": "stdout",
     "output_type": "stream",
     "text": [
      "562.0\n",
      "827.0\n",
      "13.2721201392 s\n",
      "566.0\n",
      "1026.0\n",
      "33.1902439024 s\n"
     ]
    }
   ],
   "source": [
    "f = ztf_sim.fields.Fields()\n",
    "Exposure_time = 30*u.second\n",
    "Night_length=9*u.h\n",
    "\n",
    "\n",
    "time0 = Time('2015-09-10 20:00:00') + 7*u.h # First observatoins start + offset to Palomar\n",
    "time = time0\n",
    "\n",
    "f.fields = f.fields.join(pd.DataFrame(np.zeros(len(f.fields)),columns=['observed'])) #Counts how many times the field have been observed\n",
    "f.fields = f.fields.join(pd.DataFrame(np.zeros(len(f.fields)),columns=['possibleToObserve'])) # Marks if it was possible to observe\n",
    "\n",
    "\n",
    "def observe(f, nightStart):\n",
    "    time=nightStart\n",
    "    obsLog = {'time':np.array([]),'fieldid':np.array([])}\n",
    "    \n",
    "    firstField = True # Different treatment for the first field\n",
    "    \n",
    "    timeFirstObserve = time #The time at the begining of the first \"cluster\" - after some time (defined later) this cluster should be observed again\n",
    "    \n",
    "    while time < nightStart + Night_length:\n",
    "        \n",
    "        \n",
    "        goodAltitude = f.alt_az(time)['alt'] > 20        \n",
    "        shouldObserve = f.fields['observed'] < 1 # Observe fields which haven't been observed before\n",
    "        good = goodAltitude & shouldObserve\n",
    "        f.fields['possibleToObserve'][goodAltitude] = 1\n",
    "\n",
    "        if not np.any(good): # If there are no possible fields for observation\n",
    "            time += 60*u.s\n",
    "            continue\n",
    "            \n",
    "        if firstField:\n",
    "            better = good & (f.alt_az(time + 3*u.h)['alt'] > 20) & (f.alt_az(time + 4*u.h)['alt'] < 20) # Choose a field which will go down after 4hours\n",
    "            if np.any(better): good = better\n",
    "            fid = f.fields[good].iloc[0].name # pick the first one in the list\n",
    "            obsLog['time']=np.append(obsLog['time'],(time - 7*u.h))\n",
    "            obsLog['fieldid']=np.append(obsLog['fieldid'],fid)\n",
    "            f.fields['observed'][fid]+=1\n",
    "                               \n",
    "            goodAltitude = f.alt_az(time)['alt'] > 20\n",
    "            shouldObserve = f.fields['observed'] < 1\n",
    "            good = goodAltitude & shouldObserve\n",
    "            firstField = False\n",
    "            \n",
    "                        \n",
    "        slewTime = f.overhead_time(fid,time)[good] # calculate slew time to all other possible fields\n",
    "                \n",
    "        fid = int(slewTime.idxmin()) # choose next field as the one which takes the shortest time to slew to\n",
    "        time += Exposure_time + slewTime['overhead_time'][fid]*u.second # gives the time when starting to observe the current field\n",
    "        obsLog['time']=np.append(obsLog['time'],(time - 7*u.h))\n",
    "        obsLog['fieldid']=np.append(obsLog['fieldid'],fid)\n",
    "        f.fields['observed'][fid]+=1\n",
    "        \n",
    "        if time - timeFirstObserve > 1*u.h: #Take another observation of the last \"cluster\"\n",
    "            time, fid = secondObserve(fid, time, obsLog, f)\n",
    "            timeFirstObserve = time\n",
    "   \n",
    "    return pd.DataFrame(obsLog)\n",
    "\n",
    "def secondObserve(fid0, time, obsLog,f):\n",
    "    index = f.fields[f.fields.observed ==1].index #All the fields which have been observed only once\n",
    "    fields = obsLog['fieldid'][np.in1d(obsLog['fieldid'],index)].astype('int')\n",
    "    for fid in fields: #TODO - fix the order according to observation log, and not according to fields order.\n",
    "        \n",
    "        if f.alt_az(time).alt.loc[fid]>20:            \n",
    "            time += f.overhead_time(fid0,time).overhead_time[fid]*u.s + Exposure_time\n",
    "            obsLog['time']=np.append(obsLog['time'],(time - 7*u.h))\n",
    "            obsLog['fieldid']=np.append(obsLog['fieldid'],fid)\n",
    "            f.fields['observed'][fid]+=1            \n",
    "            fid0 = fid\n",
    "    return time, fid\n",
    "    \n",
    "            \n",
    "    \n",
    "# First night\n",
    "log = observe(f,time)\n",
    "fieldsPossible = np.sum(f.fields['possibleToObserve'])\n",
    "print fieldsPossible\n",
    "fieldsObserved = np.sum(f.fields['observed'])\n",
    "print fieldsObserved\n",
    "meanTime = ((log.time.iloc[-1]-log.time.iloc[0] - (fieldsObserved-1)*Exposure_time)/(fieldsObserved-1)).to(u.second)\n",
    "print meanTime\n",
    "\n",
    "\n",
    "# Second night\n",
    "time=time0+24*u.h\n",
    "log = log.append(observe(f,time),ignore_index=True)\n",
    "fieldsPossible = np.sum(f.fields['possibleToObserve'])\n",
    "print fieldsPossible\n",
    "fieldsObserved = np.sum(f.fields['observed'])\n",
    "print fieldsObserved\n",
    "meanTime = (2*Night_length.to(u.s)-fieldsObserved*Exposure_time)/(fieldsObserved-1)\n",
    "print meanTime\n"
   ]
  },
  {
   "cell_type": "code",
   "execution_count": 131,
   "metadata": {
    "collapsed": false
   },
   "outputs": [
    {
     "data": {
      "text/html": [
       "<div>\n",
       "<table border=\"1\" class=\"dataframe\">\n",
       "  <thead>\n",
       "    <tr style=\"text-align: right;\">\n",
       "      <th></th>\n",
       "      <th>fieldid</th>\n",
       "      <th>time</th>\n",
       "    </tr>\n",
       "  </thead>\n",
       "  <tbody>\n",
       "    <tr>\n",
       "      <th>0</th>\n",
       "      <td>40</td>\n",
       "      <td>2015-09-10 20:00:00.000</td>\n",
       "    </tr>\n",
       "    <tr>\n",
       "      <th>1</th>\n",
       "      <td>20</td>\n",
       "      <td>2015-09-10 20:00:42.780</td>\n",
       "    </tr>\n",
       "    <tr>\n",
       "      <th>2</th>\n",
       "      <td>39</td>\n",
       "      <td>2015-09-10 20:01:25.560</td>\n",
       "    </tr>\n",
       "    <tr>\n",
       "      <th>3</th>\n",
       "      <td>63</td>\n",
       "      <td>2015-09-10 20:02:08.341</td>\n",
       "    </tr>\n",
       "    <tr>\n",
       "      <th>4</th>\n",
       "      <td>38</td>\n",
       "      <td>2015-09-10 20:02:51.121</td>\n",
       "    </tr>\n",
       "    <tr>\n",
       "      <th>5</th>\n",
       "      <td>19</td>\n",
       "      <td>2015-09-10 20:03:33.901</td>\n",
       "    </tr>\n",
       "    <tr>\n",
       "      <th>6</th>\n",
       "      <td>6</td>\n",
       "      <td>2015-09-10 20:04:16.681</td>\n",
       "    </tr>\n",
       "    <tr>\n",
       "      <th>7</th>\n",
       "      <td>37</td>\n",
       "      <td>2015-09-10 20:05:05.348</td>\n",
       "    </tr>\n",
       "    <tr>\n",
       "      <th>8</th>\n",
       "      <td>18</td>\n",
       "      <td>2015-09-10 20:05:48.128</td>\n",
       "    </tr>\n",
       "    <tr>\n",
       "      <th>9</th>\n",
       "      <td>5</td>\n",
       "      <td>2015-09-10 20:06:32.491</td>\n",
       "    </tr>\n",
       "    <tr>\n",
       "      <th>10</th>\n",
       "      <td>17</td>\n",
       "      <td>2015-09-10 20:07:15.272</td>\n",
       "    </tr>\n",
       "    <tr>\n",
       "      <th>11</th>\n",
       "      <td>4</td>\n",
       "      <td>2015-09-10 20:08:08.073</td>\n",
       "    </tr>\n",
       "    <tr>\n",
       "      <th>12</th>\n",
       "      <td>3</td>\n",
       "      <td>2015-09-10 20:09:06.498</td>\n",
       "    </tr>\n",
       "    <tr>\n",
       "      <th>13</th>\n",
       "      <td>14</td>\n",
       "      <td>2015-09-10 20:09:49.279</td>\n",
       "    </tr>\n",
       "    <tr>\n",
       "      <th>14</th>\n",
       "      <td>13</td>\n",
       "      <td>2015-09-10 20:10:39.267</td>\n",
       "    </tr>\n",
       "    <tr>\n",
       "      <th>15</th>\n",
       "      <td>2</td>\n",
       "      <td>2015-09-10 20:11:22.047</td>\n",
       "    </tr>\n",
       "    <tr>\n",
       "      <th>16</th>\n",
       "      <td>12</td>\n",
       "      <td>2015-09-10 20:12:06.411</td>\n",
       "    </tr>\n",
       "    <tr>\n",
       "      <th>17</th>\n",
       "      <td>28</td>\n",
       "      <td>2015-09-10 20:12:49.191</td>\n",
       "    </tr>\n",
       "    <tr>\n",
       "      <th>18</th>\n",
       "      <td>50</td>\n",
       "      <td>2015-09-10 20:13:31.971</td>\n",
       "    </tr>\n",
       "    <tr>\n",
       "      <th>19</th>\n",
       "      <td>77</td>\n",
       "      <td>2015-09-10 20:14:14.751</td>\n",
       "    </tr>\n",
       "    <tr>\n",
       "      <th>20</th>\n",
       "      <td>76</td>\n",
       "      <td>2015-09-10 20:14:57.495</td>\n",
       "    </tr>\n",
       "    <tr>\n",
       "      <th>21</th>\n",
       "      <td>108</td>\n",
       "      <td>2015-09-10 20:15:40.240</td>\n",
       "    </tr>\n",
       "    <tr>\n",
       "      <th>22</th>\n",
       "      <td>107</td>\n",
       "      <td>2015-09-10 20:16:22.984</td>\n",
       "    </tr>\n",
       "    <tr>\n",
       "      <th>23</th>\n",
       "      <td>106</td>\n",
       "      <td>2015-09-10 20:17:05.728</td>\n",
       "    </tr>\n",
       "    <tr>\n",
       "      <th>24</th>\n",
       "      <td>105</td>\n",
       "      <td>2015-09-10 20:17:48.472</td>\n",
       "    </tr>\n",
       "    <tr>\n",
       "      <th>25</th>\n",
       "      <td>104</td>\n",
       "      <td>2015-09-10 20:18:31.216</td>\n",
       "    </tr>\n",
       "    <tr>\n",
       "      <th>26</th>\n",
       "      <td>140</td>\n",
       "      <td>2015-09-10 20:19:13.996</td>\n",
       "    </tr>\n",
       "    <tr>\n",
       "      <th>27</th>\n",
       "      <td>141</td>\n",
       "      <td>2015-09-10 20:19:56.003</td>\n",
       "    </tr>\n",
       "    <tr>\n",
       "      <th>28</th>\n",
       "      <td>142</td>\n",
       "      <td>2015-09-10 20:20:38.010</td>\n",
       "    </tr>\n",
       "    <tr>\n",
       "      <th>29</th>\n",
       "      <td>143</td>\n",
       "      <td>2015-09-10 20:21:20.017</td>\n",
       "    </tr>\n",
       "    <tr>\n",
       "      <th>...</th>\n",
       "      <td>...</td>\n",
       "      <td>...</td>\n",
       "    </tr>\n",
       "    <tr>\n",
       "      <th>996</th>\n",
       "      <td>67</td>\n",
       "      <td>2015-09-11 23:10:22.590</td>\n",
       "    </tr>\n",
       "    <tr>\n",
       "      <th>997</th>\n",
       "      <td>68</td>\n",
       "      <td>2015-09-11 23:11:06.850</td>\n",
       "    </tr>\n",
       "    <tr>\n",
       "      <th>998</th>\n",
       "      <td>69</td>\n",
       "      <td>2015-09-11 23:11:51.109</td>\n",
       "    </tr>\n",
       "    <tr>\n",
       "      <th>999</th>\n",
       "      <td>101</td>\n",
       "      <td>2015-09-11 23:12:33.889</td>\n",
       "    </tr>\n",
       "    <tr>\n",
       "      <th>1000</th>\n",
       "      <td>138</td>\n",
       "      <td>2015-09-11 23:13:16.669</td>\n",
       "    </tr>\n",
       "    <tr>\n",
       "      <th>1001</th>\n",
       "      <td>723</td>\n",
       "      <td>2015-09-11 23:15:03.669</td>\n",
       "    </tr>\n",
       "    <tr>\n",
       "      <th>1002</th>\n",
       "      <td>724</td>\n",
       "      <td>2015-09-11 23:15:44.679</td>\n",
       "    </tr>\n",
       "    <tr>\n",
       "      <th>1003</th>\n",
       "      <td>725</td>\n",
       "      <td>2015-09-11 23:16:25.689</td>\n",
       "    </tr>\n",
       "    <tr>\n",
       "      <th>1004</th>\n",
       "      <td>688</td>\n",
       "      <td>2015-09-12 02:53:37.410</td>\n",
       "    </tr>\n",
       "    <tr>\n",
       "      <th>1005</th>\n",
       "      <td>688</td>\n",
       "      <td>2015-09-12 02:54:17.410</td>\n",
       "    </tr>\n",
       "    <tr>\n",
       "      <th>1006</th>\n",
       "      <td>59</td>\n",
       "      <td>2015-09-12 02:56:16.077</td>\n",
       "    </tr>\n",
       "    <tr>\n",
       "      <th>1007</th>\n",
       "      <td>36</td>\n",
       "      <td>2015-09-12 02:57:00.715</td>\n",
       "    </tr>\n",
       "    <tr>\n",
       "      <th>1008</th>\n",
       "      <td>60</td>\n",
       "      <td>2015-09-12 03:46:43.495</td>\n",
       "    </tr>\n",
       "    <tr>\n",
       "      <th>1009</th>\n",
       "      <td>297</td>\n",
       "      <td>2015-09-12 04:19:55.495</td>\n",
       "    </tr>\n",
       "    <tr>\n",
       "      <th>1010</th>\n",
       "      <td>59</td>\n",
       "      <td>2015-09-12 04:21:07.495</td>\n",
       "    </tr>\n",
       "    <tr>\n",
       "      <th>1011</th>\n",
       "      <td>36</td>\n",
       "      <td>2015-09-12 04:21:52.133</td>\n",
       "    </tr>\n",
       "    <tr>\n",
       "      <th>1012</th>\n",
       "      <td>60</td>\n",
       "      <td>2015-09-12 04:22:34.913</td>\n",
       "    </tr>\n",
       "    <tr>\n",
       "      <th>1013</th>\n",
       "      <td>297</td>\n",
       "      <td>2015-09-12 04:23:46.913</td>\n",
       "    </tr>\n",
       "    <tr>\n",
       "      <th>1014</th>\n",
       "      <td>249</td>\n",
       "      <td>2015-09-12 04:24:29.693</td>\n",
       "    </tr>\n",
       "    <tr>\n",
       "      <th>1015</th>\n",
       "      <td>61</td>\n",
       "      <td>2015-09-12 04:39:35.860</td>\n",
       "    </tr>\n",
       "    <tr>\n",
       "      <th>1016</th>\n",
       "      <td>162</td>\n",
       "      <td>2015-09-12 04:40:30.360</td>\n",
       "    </tr>\n",
       "    <tr>\n",
       "      <th>1017</th>\n",
       "      <td>204</td>\n",
       "      <td>2015-09-12 04:41:13.140</td>\n",
       "    </tr>\n",
       "    <tr>\n",
       "      <th>1018</th>\n",
       "      <td>124</td>\n",
       "      <td>2015-09-12 04:42:01.807</td>\n",
       "    </tr>\n",
       "    <tr>\n",
       "      <th>1019</th>\n",
       "      <td>90</td>\n",
       "      <td>2015-09-12 04:43:44.587</td>\n",
       "    </tr>\n",
       "    <tr>\n",
       "      <th>1020</th>\n",
       "      <td>298</td>\n",
       "      <td>2015-09-12 04:48:50.754</td>\n",
       "    </tr>\n",
       "    <tr>\n",
       "      <th>1021</th>\n",
       "      <td>501</td>\n",
       "      <td>2015-09-12 04:49:51.087</td>\n",
       "    </tr>\n",
       "    <tr>\n",
       "      <th>1022</th>\n",
       "      <td>250</td>\n",
       "      <td>2015-09-12 04:53:57.254</td>\n",
       "    </tr>\n",
       "    <tr>\n",
       "      <th>1023</th>\n",
       "      <td>348</td>\n",
       "      <td>2015-09-12 04:55:45.920</td>\n",
       "    </tr>\n",
       "    <tr>\n",
       "      <th>1024</th>\n",
       "      <td>450</td>\n",
       "      <td>2015-09-12 04:56:34.587</td>\n",
       "    </tr>\n",
       "    <tr>\n",
       "      <th>1025</th>\n",
       "      <td>552</td>\n",
       "      <td>2015-09-12 04:57:23.254</td>\n",
       "    </tr>\n",
       "  </tbody>\n",
       "</table>\n",
       "<p>1026 rows × 2 columns</p>\n",
       "</div>"
      ],
      "text/plain": [
       "      fieldid                     time\n",
       "0          40  2015-09-10 20:00:00.000\n",
       "1          20  2015-09-10 20:00:42.780\n",
       "2          39  2015-09-10 20:01:25.560\n",
       "3          63  2015-09-10 20:02:08.341\n",
       "4          38  2015-09-10 20:02:51.121\n",
       "5          19  2015-09-10 20:03:33.901\n",
       "6           6  2015-09-10 20:04:16.681\n",
       "7          37  2015-09-10 20:05:05.348\n",
       "8          18  2015-09-10 20:05:48.128\n",
       "9           5  2015-09-10 20:06:32.491\n",
       "10         17  2015-09-10 20:07:15.272\n",
       "11          4  2015-09-10 20:08:08.073\n",
       "12          3  2015-09-10 20:09:06.498\n",
       "13         14  2015-09-10 20:09:49.279\n",
       "14         13  2015-09-10 20:10:39.267\n",
       "15          2  2015-09-10 20:11:22.047\n",
       "16         12  2015-09-10 20:12:06.411\n",
       "17         28  2015-09-10 20:12:49.191\n",
       "18         50  2015-09-10 20:13:31.971\n",
       "19         77  2015-09-10 20:14:14.751\n",
       "20         76  2015-09-10 20:14:57.495\n",
       "21        108  2015-09-10 20:15:40.240\n",
       "22        107  2015-09-10 20:16:22.984\n",
       "23        106  2015-09-10 20:17:05.728\n",
       "24        105  2015-09-10 20:17:48.472\n",
       "25        104  2015-09-10 20:18:31.216\n",
       "26        140  2015-09-10 20:19:13.996\n",
       "27        141  2015-09-10 20:19:56.003\n",
       "28        142  2015-09-10 20:20:38.010\n",
       "29        143  2015-09-10 20:21:20.017\n",
       "...       ...                      ...\n",
       "996        67  2015-09-11 23:10:22.590\n",
       "997        68  2015-09-11 23:11:06.850\n",
       "998        69  2015-09-11 23:11:51.109\n",
       "999       101  2015-09-11 23:12:33.889\n",
       "1000      138  2015-09-11 23:13:16.669\n",
       "1001      723  2015-09-11 23:15:03.669\n",
       "1002      724  2015-09-11 23:15:44.679\n",
       "1003      725  2015-09-11 23:16:25.689\n",
       "1004      688  2015-09-12 02:53:37.410\n",
       "1005      688  2015-09-12 02:54:17.410\n",
       "1006       59  2015-09-12 02:56:16.077\n",
       "1007       36  2015-09-12 02:57:00.715\n",
       "1008       60  2015-09-12 03:46:43.495\n",
       "1009      297  2015-09-12 04:19:55.495\n",
       "1010       59  2015-09-12 04:21:07.495\n",
       "1011       36  2015-09-12 04:21:52.133\n",
       "1012       60  2015-09-12 04:22:34.913\n",
       "1013      297  2015-09-12 04:23:46.913\n",
       "1014      249  2015-09-12 04:24:29.693\n",
       "1015       61  2015-09-12 04:39:35.860\n",
       "1016      162  2015-09-12 04:40:30.360\n",
       "1017      204  2015-09-12 04:41:13.140\n",
       "1018      124  2015-09-12 04:42:01.807\n",
       "1019       90  2015-09-12 04:43:44.587\n",
       "1020      298  2015-09-12 04:48:50.754\n",
       "1021      501  2015-09-12 04:49:51.087\n",
       "1022      250  2015-09-12 04:53:57.254\n",
       "1023      348  2015-09-12 04:55:45.920\n",
       "1024      450  2015-09-12 04:56:34.587\n",
       "1025      552  2015-09-12 04:57:23.254\n",
       "\n",
       "[1026 rows x 2 columns]"
      ]
     },
     "execution_count": 131,
     "metadata": {},
     "output_type": "execute_result"
    }
   ],
   "source": [
    "log"
   ]
  },
  {
   "cell_type": "code",
   "execution_count": null,
   "metadata": {
    "collapsed": false
   },
   "outputs": [],
   "source": []
  },
  {
   "cell_type": "code",
   "execution_count": 6,
   "metadata": {
    "collapsed": false,
    "scrolled": true
   },
   "outputs": [],
   "source": [
    "def plotFields(f):\n",
    "    for dec in np.append(np.linspace(-90,90,10),0):\n",
    "        ra=np.linspace(0, 360,1000)\n",
    "        x,y = raDec2xy(ra,dec)\n",
    "        plt.plot(x,y,'k')\n",
    "\n",
    "    for ra in np.linspace(0,360,10):\n",
    "        dec=np.linspace(-90, 90,1000)\n",
    "        x,y = raDec2xy(ra,dec)\n",
    "        plt.plot(x,y,'k')\n",
    "\n",
    "    x,y = raDec2xy(f.fields['ra'],f.fields['dec'])\n",
    "    plt.plot(x,y,'o',color=(.8,.8,.8))    \n",
    "    #plt.show()"
   ]
  },
  {
   "cell_type": "code",
   "execution_count": 7,
   "metadata": {
    "collapsed": false
   },
   "outputs": [],
   "source": [
    "def raDec2xy(ra,dec):\n",
    "    # Using Aitoff projections (from Wiki) returns x-y coordinates on a plane from RA and Dec\n",
    "    theta = np.deg2rad(dec)\n",
    "    phi = np.deg2rad(ra)-np.pi #the range is [-pi,pi]\n",
    "    alpha=np.arccos(np.cos(theta)*np.cos(phi/2))\n",
    "    x=2*np.cos(theta)*np.sin(phi/2)/np.sinc(alpha/np.pi) # The python's sinc is normalazid, hence the /pi\n",
    "    y=np.sin(theta)/np.sinc(alpha/np.pi)\n",
    "    return x,y"
   ]
  },
  {
   "cell_type": "code",
   "execution_count": 132,
   "metadata": {
    "collapsed": false
   },
   "outputs": [],
   "source": [
    "def showObservation(f,obsLog): # Takes the fields (f) and the observation log\n",
    "    \n",
    "    fig = plt.figure()\n",
    "    ax = plt.axes(xlim=(-3.5, 3.5), ylim=(-2, 2))\n",
    "    plotFields(f)\n",
    "    line1, = ax.plot([], [],'.b')\n",
    "    line2, = ax.plot([], [],'og')\n",
    "    obsLimits, = ax.plot([],[],'xr')\n",
    "    time_text = ax.text(0.02, 0.95, '', transform=ax.transAxes)\n",
    "    \n",
    "    def init():\n",
    "        line1.set_data([], [])\n",
    "        line2.set_data([], [])\n",
    "        obsLimits.set_data([],[])\n",
    "        time_text.set_text('')\n",
    "        return line1,line2,obsLimits,time_text    \n",
    "\n",
    "    def animate(i):\n",
    "        \n",
    "        counts = dict(Counter(obsLog.iloc[:i].fieldid))\n",
    "        time = obsLog.time.iloc[i]\n",
    "\n",
    "        # Fields which are observed for the first time\n",
    "        fids1 = np.array(counts.keys())[np.array(counts.values()) == 1]\n",
    "        ra = f.fields.ra[fids1]\n",
    "        dec = f.fields.dec[fids1]\n",
    "        \n",
    "        x,y = raDec2xy(ra,dec)\n",
    "        line1.set_data(x, y)\n",
    "        \n",
    "        # Fields which are observed for the second time\n",
    "        fids2 = np.array(counts.keys())[np.array(counts.values()) == 2]\n",
    "        ra = f.fields.ra[fids2]\n",
    "        dec = f.fields.dec[fids2]\n",
    "        \n",
    "        x,y = raDec2xy(ra,dec)\n",
    "        line2.set_data(x, y)\n",
    "        \n",
    "        \"\"\"\n",
    "        az = np.linspace(0,360,1000)\n",
    "        alt = 50*np.ones(1000)\n",
    "        altAzLim = coords.SkyCoord(az = az, alt = alt,frame='altaz', unit = 'deg', \n",
    "                           location = coords.EarthLocation(lat=coords.Latitude('33d21m26.35s'), \n",
    "                                                           lon=coords.Longitude('-116d51m32.04s'), \n",
    "                                                           height=1707.*u.m), obstime = obsLog.time[i])\n",
    "        raDecLims = altAzLim.icrs\n",
    "        x,y = raDec2xy(raDecLims.ra.value, raDecLims.dec.value) # passed dimensionless numbers in degrees\n",
    "        \"\"\"\n",
    "        \n",
    "        # Fields which are at good altitiude and possible to observe\n",
    "        goodAltitude = f.alt_az(time + 7*u.h)['alt'] > 20\n",
    "        x,y = raDec2xy(f.fields[goodAltitude].ra,f.fields[goodAltitude].dec)        \n",
    "        obsLimits.set_data(x,y)\n",
    "        \n",
    "        # Displays the time\n",
    "        time_text.set_text(time.value)\n",
    "        \n",
    "     \n",
    "        return line1,line2,obsLimits,time_text\n",
    "    \n",
    "    frames = len(obsLog)\n",
    "    anim = animation.FuncAnimation(fig, animate, init_func=init, frames=frames, blit=True)\n",
    "    \n",
    "    #plt.rcParams['animation.ffmpeg_path'] = '/home/danny/ffmpeg-2.8'\n",
    "    #FFwriter = animation.FFMpegWriter()\n",
    "    \n",
    "    anim.save('basic_animation.mp4', writer = 'avconv', fps=5, dpi = 100) # Takes a lot of time, may be sensitive to writer on different platforms\n",
    "    #plt.show()\n",
    "    plt.close()\n",
    "\n",
    "showObservation(f,log)\n"
   ]
  },
  {
   "cell_type": "code",
   "execution_count": 80,
   "metadata": {
    "collapsed": false
   },
   "outputs": [],
   "source": [
    "index = f.fields[f.fields.observed ==1].index"
   ]
  },
  {
   "cell_type": "code",
   "execution_count": 90,
   "metadata": {
    "collapsed": false
   },
   "outputs": [
    {
     "data": {
      "text/plain": [
       "Int64Index([ 61,  64,  90,  93, 124, 128, 129, 162, 168, 169, 204, 212, 213,\n",
       "            250, 260, 261, 298, 309, 310, 347, 348, 361, 362, 398, 413, 414,\n",
       "            416, 450, 466, 467, 501, 519, 520, 552, 571, 572, 601, 622, 623,\n",
       "            648, 671, 672, 673, 674, 675, 684, 685, 686, 687, 688, 691, 721,\n",
       "            722, 726, 727],\n",
       "           dtype='int64', name=u'fieldid')"
      ]
     },
     "execution_count": 90,
     "metadata": {},
     "output_type": "execute_result"
    }
   ],
   "source": [
    "index"
   ]
  },
  {
   "cell_type": "code",
   "execution_count": 111,
   "metadata": {
    "collapsed": false
   },
   "outputs": [
    {
     "data": {
      "text/plain": [
       "array([  40.,   20.,   39., ...,  348.,  450.,  552.])"
      ]
     },
     "execution_count": 111,
     "metadata": {},
     "output_type": "execute_result"
    }
   ],
   "source": [
    "log.fieldid.values"
   ]
  },
  {
   "cell_type": "code",
   "execution_count": null,
   "metadata": {
    "collapsed": false
   },
   "outputs": [],
   "source": [
    "az = np.linspace(0,360,1000)\n",
    "alt = 20*np.ones(1000)\n",
    "altAzLim = coords.SkyCoord(az = az, alt = alt,frame='altaz', unit = 'deg', \n",
    "                           location = coords.EarthLocation(lat=coords.Latitude('33d21m26.35s'), \n",
    "                                                           lon=coords.Longitude('-116d51m32.04s'), \n",
    "                                                           height=1707.*u.m), obstime = Time.now())\n",
    "raDecLims = altAzLim.icrs"
   ]
  },
  {
   "cell_type": "code",
   "execution_count": 115,
   "metadata": {
    "collapsed": false
   },
   "outputs": [
    {
     "data": {
      "text/plain": [
       "array([ 684.,  685.,  686.,  687.,  688.,   93.,  128.,  129.,  169.,\n",
       "        168.,  212.,  213.,  310.,  309.,  260.,  261.,  361.,  362.,\n",
       "        414.,  413.,  466.,  467.,  520.,  519.,  571.,  572.,  623.,\n",
       "        622.,  671.,  672.,  675.,  674.,  673.,  416.,  721.,  722.,\n",
       "         64.,  726.,  727.,  347.,  691.,  398.,   61.,  162.,  204.,\n",
       "        124.,   90.,  601.,  648.,  501.,  298.,  250.,  348.,  450.,  552.])"
      ]
     },
     "execution_count": 115,
     "metadata": {},
     "output_type": "execute_result"
    }
   ],
   "source": [
    "log[np.in1d(log.fieldid.values,index)].fieldid.values"
   ]
  },
  {
   "cell_type": "code",
   "execution_count": null,
   "metadata": {
    "collapsed": false
   },
   "outputs": [],
   "source": [
    "a=Counter(log[:30].fieldid)\n",
    "print a"
   ]
  },
  {
   "cell_type": "code",
   "execution_count": null,
   "metadata": {
    "collapsed": false
   },
   "outputs": [],
   "source": [
    "b=dict(a)\n",
    "print b"
   ]
  },
  {
   "cell_type": "code",
   "execution_count": null,
   "metadata": {
    "collapsed": false
   },
   "outputs": [],
   "source": [
    "np.array(b.keys())[np.array(b.values())==2]"
   ]
  },
  {
   "cell_type": "code",
   "execution_count": null,
   "metadata": {
    "collapsed": false
   },
   "outputs": [],
   "source": [
    "b.keys()[5:9]"
   ]
  },
  {
   "cell_type": "code",
   "execution_count": null,
   "metadata": {
    "collapsed": false
   },
   "outputs": [],
   "source": [
    "a.iloc[-1]"
   ]
  },
  {
   "cell_type": "code",
   "execution_count": null,
   "metadata": {
    "collapsed": false
   },
   "outputs": [],
   "source": [
    "a = {'x':np.array([4,5,6]), 'y':np.array([8,9,10])}"
   ]
  },
  {
   "cell_type": "code",
   "execution_count": null,
   "metadata": {
    "collapsed": false
   },
   "outputs": [],
   "source": [
    "a['x'][a['y']>z]"
   ]
  },
  {
   "cell_type": "code",
   "execution_count": null,
   "metadata": {
    "collapsed": true
   },
   "outputs": [],
   "source": [
    "np.any"
   ]
  },
  {
   "cell_type": "code",
   "execution_count": null,
   "metadata": {
    "collapsed": false
   },
   "outputs": [],
   "source": [
    "a['y']<10"
   ]
  },
  {
   "cell_type": "code",
   "execution_count": null,
   "metadata": {
    "collapsed": false
   },
   "outputs": [],
   "source": [
    "f.fields[f.fields.dec<3].index[7]"
   ]
  },
  {
   "cell_type": "code",
   "execution_count": null,
   "metadata": {
    "collapsed": false
   },
   "outputs": [],
   "source": [
    "f.fields.loc[440]\n"
   ]
  },
  {
   "cell_type": "code",
   "execution_count": null,
   "metadata": {
    "collapsed": true
   },
   "outputs": [],
   "source": []
  }
 ],
 "metadata": {
  "kernelspec": {
   "display_name": "Python 2",
   "language": "python",
   "name": "python2"
  },
  "language_info": {
   "codemirror_mode": {
    "name": "ipython",
    "version": 2
   },
   "file_extension": ".py",
   "mimetype": "text/x-python",
   "name": "python",
   "nbconvert_exporter": "python",
   "pygments_lexer": "ipython2",
   "version": "2.7.10"
  }
 },
 "nbformat": 4,
 "nbformat_minor": 0
}
